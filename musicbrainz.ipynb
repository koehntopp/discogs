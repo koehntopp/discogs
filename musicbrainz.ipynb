{
 "cells": [
  {
   "cell_type": "code",
   "execution_count": 4,
   "metadata": {},
   "outputs": [
    {
     "name": "stdout",
     "output_type": "stream",
     "text": [
      "{'artist': ['Tanita Tikaram'], 'discogs_album_releasecountry': ['Europe'], 'musicbrainz_release_group_url': ['https://www.musicbrainz.org/release-group/c1cf96d3-9954-336a-83c8-28d3c25987c0'], 'replaygain_track_gain': ['-3.70 dB'], 'composer': ['Tanita Tikaram'], 'discogs_albumartist_url': ['https://www.discogs.com/artist/Tanita+Tikaram'], 'engineer': ['Simon Hurrell'], 'musicbrainz_albumtype': ['Album'], 'replaygain_album_gain': ['-0.40 dB'], 'genre': ['Pop'], 'discogs_catalog_number': ['WEA: 243877 -2'], 'discogs_master_id': ['m40736'], 'disctotal': ['1'], 'musicbrainz_release_groupid': ['c1cf96d3-9954-336a-83c8-28d3c25987c0'], 'title': ['Good Tradition'], 'discogs_release_ordinal_position': ['0'], 'barcode': ['0 22924 38772 2'], 'discogs_release_url': ['https://www.discogs.com/release/1293848-Tanita-Tikaram-Ancient-Heart'], 'tracknumber': ['1'], 'musicbrainz_album_url': ['https://www.musicbrainz.org/release/0b398132-64aa-4ee3-a1ee-02120a0aac29'], 'copyright': ['℗ WEA Records Ltd., © WEA Records Ltd.'], 'producer': ['Peter Van Hooke', 'Rod Argent'], 'musicbrainz_artist_url': ['https://www.musicbrainz.org/artist/43554fe6-840b-4f61-b54b-8168398cb1e7'], 'replaygain_album_peak': ['0.99996900'], 'involvedpeopleyr': ['Rod Argent (Arranger [string quartet])', 'Paul Charles (Management [representation])'], 'discsubtitle': [''], 'media': ['CD (Album)'], 'originaldate': ['1988'], 'arranger': ['Peter Van Hooke', 'Rod Argent', 'Tanita Tikaram'], 'albumartistsort': ['Tikaram, Tanita'], 'discogs_label_url': ['https://www.discogs.com/label/WEA'], 'discogs_artwork_url': ['https://www.discogs.com/viewimages?release=1293848'], 'discogs_artist_url': ['https://www.discogs.com/artist/Tanita+Tikaram'], 'discogs_artist_list': ['Tanita Tikaram'], 'lyricist': ['Tanita Tikaram'], 'musicbrainz_albumid': ['0b398132-64aa-4ee3-a1ee-02120a0aac29'], 'albumartist': ['Tanita Tikaram'], 'discogs_master_url': ['https://www.discogs.com/master/40736'], 'country': ['Europe'], 'totaltracks': ['11'], 'discogs_import_settings': ['.5155555515155555555551'], 'discnumber': ['1'], 'label': ['WEA'], 'discogs_release_id': ['1293848'], 'replaygain_track_peak': ['0.97726400'], 'year': ['1988'], 'version': [''], 'dynamic range': ['12'], 'album': ['Ancient Heart (1988 44kHz)'], 'musicbrainz_albumartist_url': ['https://www.musicbrainz.org/artist/43554fe6-840b-4f61-b54b-8168398cb1e7'], 'personnel': ['T&CP Associates - Design', 'Peter Van Hooke - Mixing', 'Rod Argent - Mixing', 'Simon Hurrell - Mixing', 'Pete Moss - Photography', 'Rory McFarlane - Bass Guitar', 'Peter Van Hooke - Drums', 'Tanita Tikaram - Guitar', 'Rod Argent - Keyboard', 'Paul Brady - Mandolin', 'Phil Todd - Saxophone', 'Pete Beachill - Trombone', 'Noel Langley - Trumpet', \"Helen O'Hara - Violin\", 'Tanita Tikaram - Vocals'], 'publisher': ['Brogue Music'], 'musicbrainz_albumstatus': ['Official'], 'album dynamic range': ['13'], 'catalognumber': ['243877 -2'], 'original_title': ['Ancient Heart'], 'musicbrainz_releasetrackid': ['4d4b9327-1ad6-4f7e-8635-313c496d7f93'], 'comment': ['LoKET 2014'], 'date': ['1988'], 'discogs_release_notes': ['All titles published by Brogue Music.\\n℗ 1988 WEA Records Ltd. © 1988 WEA Records Ltd.\\nManufactured in Germany by Records Service GmbH, Alsdorf.\\n\\nSome copies released with green heart shaped sticker on front.\\n\\n[url=http://www.discogs.com/release/4131767]A very similar version[/url] is available with a slightly different inlay artwork (wide barcode, digits not hyphened as 0 22924 38772 2).']}\n"
     ]
    }
   ],
   "source": [
    "import music_tag\n",
    "from mutagen.flac import FLAC, StreamInfo\n",
    "\n",
    "musicbrainzngs.set_useragent(\"python\", \"3.X\")\n",
    "\n",
    "filepath = '/Volumes/FLAC/Tanita_Tikaram/Ancient_Heart_1988_44kHz/01_01_Good_Tradition.flac'\n",
    "tags = FLAC(filepath)\n",
    "\n",
    "mbid = \"8fe4dcfc-20d8-4a2c-b412-515af4188e40\"\n",
    "\n",
    "release = musicbrainzngs.get_release_by_id(mbid, includes=[], release_status=[], release_type=[])\n",
    "\n",
    "print(tags)\n"
   ]
  },
  {
   "cell_type": "code",
   "execution_count": null,
   "metadata": {},
   "outputs": [],
   "source": []
  },
  {
   "cell_type": "code",
   "execution_count": null,
   "metadata": {},
   "outputs": [],
   "source": []
  }
 ],
 "metadata": {
  "kernelspec": {
   "display_name": "Python 3 (ipykernel)",
   "language": "python",
   "name": "python3"
  },
  "language_info": {
   "codemirror_mode": {
    "name": "ipython",
    "version": 3
   },
   "file_extension": ".py",
   "mimetype": "text/x-python",
   "name": "python",
   "nbconvert_exporter": "python",
   "pygments_lexer": "ipython3",
   "version": "3.10.9"
  },
  "vscode": {
   "interpreter": {
    "hash": "a0a5145e6c304e2a9afaf5b930a2955b950bd4b81fe94f7c42930f43f42762eb"
   }
  }
 },
 "nbformat": 4,
 "nbformat_minor": 2
}
