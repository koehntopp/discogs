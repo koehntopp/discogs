{
 "cells": [
  {
   "cell_type": "code",
   "execution_count": 7,
   "metadata": {
    "scrolled": true
   },
   "outputs": [
    {
     "name": "stdout",
     "output_type": "stream",
     "text": [
      "[<Track '1' 'Night Life'>, <Track '2' 'Juke Box Hero'>, <Track '3' 'Break It Up'>, <Track '4' 'Waiting For A Girl Like You'>, <Track '5' 'Luanne'>, <Track '6' 'Urgent'>, <Track '7' \"I'm Gonna Win\">, <Track '8' 'Woman In Black'>, <Track '9' 'Girl On The Moon'>, <Track '10' \"Don't Let Go\">]\n"
     ]
    }
   ],
   "source": [
    "import discogs_client\n",
    "from config import api_key\n",
    "\n",
    "dclient = discogs_client.Client('PyDiscogsTagger/0.1', user_token=api_key)\n",
    "\n",
    "#drelease = dclient.release(25735759).tracklist\n",
    "drelease = dclient.release(12023203)\n",
    "print(drelease.tracklist)"
   ]
  },
  {
   "cell_type": "code",
   "execution_count": 4,
   "metadata": {},
   "outputs": [
    {
     "data": {
      "text/plain": [
       "12023203"
      ]
     },
     "execution_count": 4,
     "metadata": {},
     "output_type": "execute_result"
    }
   ],
   "source": [
    "12023203"
   ]
  },
  {
   "cell_type": "code",
   "execution_count": null,
   "metadata": {},
   "outputs": [],
   "source": [
    "dfhgdh"
   ]
  },
  {
   "cell_type": "code",
   "execution_count": null,
   "metadata": {},
   "outputs": [],
   "source": []
  }
 ],
 "metadata": {
  "kernelspec": {
   "display_name": "Python 3 (ipykernel)",
   "language": "python",
   "name": "python3"
  },
  "language_info": {
   "codemirror_mode": {
    "name": "ipython",
    "version": 3
   },
   "file_extension": ".py",
   "mimetype": "text/x-python",
   "name": "python",
   "nbconvert_exporter": "python",
   "pygments_lexer": "ipython3",
   "version": "3.10.9"
  },
  "vscode": {
   "interpreter": {
    "hash": "a0a5145e6c304e2a9afaf5b930a2955b950bd4b81fe94f7c42930f43f42762eb"
   }
  }
 },
 "nbformat": 4,
 "nbformat_minor": 2
}
